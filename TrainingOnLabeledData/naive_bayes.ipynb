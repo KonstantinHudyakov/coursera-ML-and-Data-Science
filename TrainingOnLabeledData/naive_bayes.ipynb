{
 "cells": [
  {
   "cell_type": "code",
   "execution_count": 59,
   "metadata": {
    "collapsed": true
   },
   "outputs": [],
   "source": [
    "import numpy as np"
   ]
  },
  {
   "cell_type": "code",
   "execution_count": 60,
   "outputs": [],
   "source": [
    "from sklearn.datasets import load_digits, load_breast_cancer\n",
    "\n",
    "digits = load_digits()\n",
    "cancer = load_breast_cancer()\n",
    "digits_data = digits.data\n",
    "digits_target = digits.target\n",
    "cancer_data = cancer.data\n",
    "cancer_target = cancer.target\n"
   ],
   "metadata": {
    "collapsed": false,
    "pycharm": {
     "name": "#%%\n"
    }
   }
  },
  {
   "cell_type": "code",
   "execution_count": 61,
   "outputs": [],
   "source": [
    "from sklearn.model_selection import cross_val_score\n",
    "from sklearn.naive_bayes import BernoulliNB, MultinomialNB, GaussianNB\n",
    "\n",
    "def test(model, data, target, data_label, model_label):\n",
    "    score = cross_val_score(model, data, target)\n",
    "    mean = np.mean(score)\n",
    "    print(\"model: {}, data: {}, score {:.2f}\".format(model_label, data_label, mean))"
   ],
   "metadata": {
    "collapsed": false,
    "pycharm": {
     "name": "#%%\n"
    }
   }
  },
  {
   "cell_type": "code",
   "execution_count": 62,
   "outputs": [
    {
     "name": "stdout",
     "output_type": "stream",
     "text": [
      "model: Digits, data: Bernoully, score 0.82\n",
      "model: Cancer, data: Bernoully, score 0.63\n"
     ]
    }
   ],
   "source": [
    "test(BernoulliNB(), digits_data, digits_target, 'Bernoully', 'Digits')\n",
    "test(BernoulliNB(), cancer_data, cancer_target, 'Bernoully', 'Cancer')"
   ],
   "metadata": {
    "collapsed": false,
    "pycharm": {
     "name": "#%%\n"
    }
   }
  },
  {
   "cell_type": "code",
   "execution_count": 63,
   "outputs": [
    {
     "name": "stdout",
     "output_type": "stream",
     "text": [
      "model: Digits, data: Multinomial, score 0.87\n",
      "model: Cancer, data: Multinomial, score 0.90\n"
     ]
    }
   ],
   "source": [
    "test(MultinomialNB(), digits_data, digits_target, 'Multinomial', 'Digits')\n",
    "test(MultinomialNB(), cancer_data, cancer_target, 'Multinomial', 'Cancer')"
   ],
   "metadata": {
    "collapsed": false,
    "pycharm": {
     "name": "#%%\n"
    }
   }
  },
  {
   "cell_type": "code",
   "execution_count": 64,
   "outputs": [
    {
     "name": "stdout",
     "output_type": "stream",
     "text": [
      "model: Digits, data: Gaussian, score 0.81\n",
      "model: Cancer, data: Gaussian, score 0.94\n"
     ]
    }
   ],
   "source": [
    "test(GaussianNB(), digits_data, digits_target, 'Gaussian', 'Digits')\n",
    "test(GaussianNB(), cancer_data, cancer_target, 'Gaussian', 'Cancer')\n"
   ],
   "metadata": {
    "collapsed": false,
    "pycharm": {
     "name": "#%%\n"
    }
   }
  }
 ],
 "metadata": {
  "kernelspec": {
   "display_name": "Python 3",
   "language": "python",
   "name": "python3"
  },
  "language_info": {
   "codemirror_mode": {
    "name": "ipython",
    "version": 2
   },
   "file_extension": ".py",
   "mimetype": "text/x-python",
   "name": "python",
   "nbconvert_exporter": "python",
   "pygments_lexer": "ipython2",
   "version": "2.7.6"
  }
 },
 "nbformat": 4,
 "nbformat_minor": 0
}