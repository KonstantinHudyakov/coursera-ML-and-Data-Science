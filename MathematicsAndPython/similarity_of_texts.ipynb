{
 "cells": [
  {
   "cell_type": "code",
   "execution_count": 1,
   "metadata": {
    "collapsed": true
   },
   "outputs": [],
   "source": [
    "import re\n",
    "import numpy as np\n",
    "import scipy as sp"
   ]
  },
  {
   "cell_type": "code",
   "execution_count": 2,
   "outputs": [],
   "source": [
    "from scipy import spatial\n",
    "file = open(\"resources/sentences.txt\")\n",
    "sentences = np.array(file.readlines())\n",
    "file.close()\n",
    "\n",
    "for i in range(sentences.size):\n",
    "    sentences[i] = sentences[i].lower()"
   ],
   "metadata": {
    "collapsed": false,
    "pycharm": {
     "name": "#%%\n"
    }
   }
  },
  {
   "cell_type": "code",
   "execution_count": 3,
   "outputs": [],
   "source": [
    "tokenized = []\n",
    "for i in range(sentences.size):\n",
    "    tokens = re.split('[^a-z]', sentences[i])\n",
    "    notEmptyTokens = []\n",
    "    for token in tokens:\n",
    "        if token != '':\n",
    "            notEmptyTokens.append(token)\n",
    "    tokenized.append(notEmptyTokens)"
   ],
   "metadata": {
    "collapsed": false,
    "pycharm": {
     "name": "#%%\n"
    }
   }
  },
  {
   "cell_type": "code",
   "execution_count": 4,
   "outputs": [],
   "source": [
    "letters = {}\n",
    "ind = 0\n",
    "for tokens in tokenized:\n",
    "    for token in tokens:\n",
    "        if letters.get(token) is None:\n",
    "            letters[token] = ind\n",
    "            ind += 1"
   ],
   "metadata": {
    "collapsed": false,
    "pycharm": {
     "name": "#%%\n"
    }
   }
  },
  {
   "cell_type": "code",
   "execution_count": 5,
   "outputs": [],
   "source": [
    "table = np.zeros((sentences.size, len(letters)), dtype=int)\n",
    "for i in range(len(tokenized)):\n",
    "    tokens = tokenized[i]\n",
    "    for token in tokens:\n",
    "        index = letters[token]\n",
    "        table[i][index] += 1"
   ],
   "metadata": {
    "collapsed": false,
    "pycharm": {
     "name": "#%%\n"
    }
   }
  },
  {
   "cell_type": "code",
   "execution_count": 6,
   "outputs": [],
   "source": [
    "target_index = 0\n",
    "distances = []\n",
    "for i in range(len(table)):\n",
    "    if i != target_index:\n",
    "        dist = spatial.distance.cosine(table[target_index], table[i])\n",
    "        distances.append(dist)"
   ],
   "metadata": {
    "collapsed": false,
    "pycharm": {
     "name": "#%%\n"
    }
   }
  },
  {
   "cell_type": "code",
   "execution_count": 7,
   "outputs": [],
   "source": [
    "first_ind = 0\n",
    "second_ind = 0\n",
    "for i in range(len(distances)):\n",
    "    if distances[i] < distances[first_ind]:\n",
    "        second_ind = first_ind\n",
    "        first_ind = i"
   ],
   "metadata": {
    "collapsed": false,
    "pycharm": {
     "name": "#%%\n"
    }
   }
  },
  {
   "cell_type": "code",
   "execution_count": 8,
   "outputs": [
    {
     "name": "stdout",
     "output_type": "stream",
     "text": [
      "in comparison to dogs, cats have not undergone major changes during the domestication process.\n",
      "\n",
      "domestic cats are similar in size to the other members of the genus felis, typically weighing between 4 and 5 kg (8.8 and 11.0 lb).\n",
      "\n",
      "in one, people deliberately tamed cats in a process of artificial selection, as they were useful predators of vermin.\n",
      "\n"
     ]
    }
   ],
   "source": [
    "print(sentences[0])\n",
    "print(sentences[first_ind + 1])\n",
    "print(sentences[second_ind + 1])"
   ],
   "metadata": {
    "collapsed": false,
    "pycharm": {
     "name": "#%%\n"
    }
   }
  }
 ],
 "metadata": {
  "kernelspec": {
   "display_name": "Python 3",
   "language": "python",
   "name": "python3"
  },
  "language_info": {
   "codemirror_mode": {
    "name": "ipython",
    "version": 2
   },
   "file_extension": ".py",
   "mimetype": "text/x-python",
   "name": "python",
   "nbconvert_exporter": "python",
   "pygments_lexer": "ipython2",
   "version": "2.7.6"
  }
 },
 "nbformat": 4,
 "nbformat_minor": 0
}